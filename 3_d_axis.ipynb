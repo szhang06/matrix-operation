{
  "nbformat": 4,
  "nbformat_minor": 0,
  "metadata": {
    "colab": {
      "name": "3-d axis.ipynb",
      "provenance": [],
      "authorship_tag": "ABX9TyNHdiqMLiVc27sU4HV6w+yS",
      "include_colab_link": true
    },
    "kernelspec": {
      "name": "python3",
      "display_name": "Python 3"
    },
    "language_info": {
      "name": "python"
    }
  },
  "cells": [
    {
      "cell_type": "markdown",
      "metadata": {
        "id": "view-in-github",
        "colab_type": "text"
      },
      "source": [
        "<a href=\"https://colab.research.google.com/github/szhang06/matrix-operation/blob/main/3_d_axis.ipynb\" target=\"_parent\"><img src=\"https://colab.research.google.com/assets/colab-badge.svg\" alt=\"Open In Colab\"/></a>"
      ]
    },
    {
      "cell_type": "markdown",
      "source": [
        "\n",
        "\n",
        "> argmax\n",
        "\n"
      ],
      "metadata": {
        "id": "GXovfy-yEn0_"
      }
    },
    {
      "cell_type": "code",
      "execution_count": 1,
      "metadata": {
        "id": "Ret1QppU714z"
      },
      "outputs": [],
      "source": [
        "import numpy as np"
      ]
    },
    {
      "cell_type": "code",
      "source": [
        "# 2-dimension\n",
        "a = np.array([[1,5,5,2],\n",
        "               [9,-6,2,8],\n",
        "               [-3,7,-9,1]])"
      ],
      "metadata": {
        "id": "tZ14n8nIExKt"
      },
      "execution_count": 16,
      "outputs": []
    },
    {
      "cell_type": "code",
      "source": [
        "b = np.argmax(a, axis = 0)\n",
        "print(b) # "
      ],
      "metadata": {
        "colab": {
          "base_uri": "https://localhost:8080/"
        },
        "id": "ruNLExUzE7HF",
        "outputId": "fa8a778d-2ea9-4462-9364-87b3c79b986d"
      },
      "execution_count": 17,
      "outputs": [
        {
          "output_type": "stream",
          "name": "stdout",
          "text": [
            "[1 2 0 1]\n"
          ]
        }
      ]
    },
    {
      "cell_type": "code",
      "source": [
        "c = np.argmax(a, axis = 1) # 行里比较\n",
        "print(c)"
      ],
      "metadata": {
        "colab": {
          "base_uri": "https://localhost:8080/"
        },
        "id": "8Gdro31OFMk8",
        "outputId": "bbe265b5-3b48-4ae1-8040-08718418c614"
      },
      "execution_count": 19,
      "outputs": [
        {
          "output_type": "stream",
          "name": "stdout",
          "text": [
            "[1 0 1]\n"
          ]
        }
      ]
    },
    {
      "cell_type": "code",
      "source": [
        "a = np.array([[[1,5,5,2],\n",
        "               [9,-6,2,8],\n",
        "               [-3,7,-9,1]],\n",
        "              [[-1,7,-5,2],\n",
        "               [9,6,2,8],\n",
        "               [3,7,9,1]],\n",
        "              [[21,6,-5,2],\n",
        "               [9,36,2,8],\n",
        "               [3,7,79,1]]           \n",
        "              ])"
      ],
      "metadata": {
        "id": "4X_n6wVs78Tv"
      },
      "execution_count": 2,
      "outputs": []
    },
    {
      "cell_type": "code",
      "source": [
        "print(a.shape)"
      ],
      "metadata": {
        "colab": {
          "base_uri": "https://localhost:8080/"
        },
        "id": "ZHbG69Og-DKV",
        "outputId": "7f7e777a-094a-4907-a141-e80a4139003b"
      },
      "execution_count": 6,
      "outputs": [
        {
          "output_type": "stream",
          "name": "stdout",
          "text": [
            "(3, 3, 4)\n"
          ]
        }
      ]
    },
    {
      "cell_type": "code",
      "source": [
        "b = np.argmax(a, axis = 0)  # 先拿出行，然后按列比较\n",
        "                              #先比较[1,5,5,2]，[-1,7,-5,2]，[21,6,-5,2] 列 -> [2 1 0 0]\n",
        "print(b)\n",
        "print(b.shape)"
      ],
      "metadata": {
        "colab": {
          "base_uri": "https://localhost:8080/"
        },
        "id": "S7RiomAO8yoz",
        "outputId": "ac37038e-7926-4c60-be2f-e05b2c7c6643"
      },
      "execution_count": 9,
      "outputs": [
        {
          "output_type": "stream",
          "name": "stdout",
          "text": [
            "[[2 1 0 0]\n",
            " [0 2 0 0]\n",
            " [1 0 2 0]]\n",
            "(3, 4)\n"
          ]
        }
      ]
    },
    {
      "cell_type": "markdown",
      "source": [
        "三维矩阵有三个方向 0,1,2"
      ],
      "metadata": {
        "id": "MHmsv01VBHql"
      }
    },
    {
      "cell_type": "code",
      "source": [
        "b = np.argmax(a, axis = 1) #第一个矩阵按列比较，然后三个矩阵放在一起 [[1,5,5,2],\n",
        "               #[9,-6,2,8],\n",
        "               #[-3,7,-9,1]] -> [1,2,0,1]\n",
        "print(b)\n",
        "print(b.shape)"
      ],
      "metadata": {
        "colab": {
          "base_uri": "https://localhost:8080/"
        },
        "id": "OCQmvayD9DwM",
        "outputId": "bfbe570b-da4e-47d0-a7cc-ade874617520"
      },
      "execution_count": 10,
      "outputs": [
        {
          "output_type": "stream",
          "name": "stdout",
          "text": [
            "[[1 2 0 1]\n",
            " [1 0 2 1]\n",
            " [0 1 2 1]]\n",
            "(3, 4)\n"
          ]
        }
      ]
    },
    {
      "cell_type": "code",
      "source": [
        "b = np.argmax(a, axis = 2) # 每个矩阵行内部行比较 [[1,5,5,2],\n",
        "               #[9,-6,2,8],\n",
        "               #[-3,7,-9,1]] -> [1,0,1]\n",
        "print(b)\n",
        "print(b.shape)               "
      ],
      "metadata": {
        "colab": {
          "base_uri": "https://localhost:8080/"
        },
        "id": "IHb2b0uRAB3H",
        "outputId": "5938537e-2492-4bab-f760-75aec716a050"
      },
      "execution_count": 11,
      "outputs": [
        {
          "output_type": "stream",
          "name": "stdout",
          "text": [
            "[[1 0 1]\n",
            " [1 0 2]\n",
            " [0 1 2]]\n",
            "(3, 3)\n"
          ]
        }
      ]
    },
    {
      "cell_type": "code",
      "source": [
        "#指定矩阵\n",
        "print(np.argmax(a[0,-1,:])) # 第一个矩阵最后一行"
      ],
      "metadata": {
        "colab": {
          "base_uri": "https://localhost:8080/"
        },
        "id": "bFqPhJwZDRbI",
        "outputId": "95ed08d5-3113-477e-a857-0961f1eb07c6"
      },
      "execution_count": 12,
      "outputs": [
        {
          "output_type": "stream",
          "name": "stdout",
          "text": [
            "1\n"
          ]
        }
      ]
    },
    {
      "cell_type": "code",
      "source": [
        "print(np.argmax(a[1,:,2])) # 第一个矩阵第3列"
      ],
      "metadata": {
        "colab": {
          "base_uri": "https://localhost:8080/"
        },
        "id": "_4Mil-w_DoHP",
        "outputId": "06886dd3-5421-4178-cacd-9aeb85db9596"
      },
      "execution_count": 13,
      "outputs": [
        {
          "output_type": "stream",
          "name": "stdout",
          "text": [
            "2\n"
          ]
        }
      ]
    },
    {
      "cell_type": "code",
      "source": [
        ""
      ],
      "metadata": {
        "id": "b6eiBgx_EEPt"
      },
      "execution_count": null,
      "outputs": []
    }
  ]
}